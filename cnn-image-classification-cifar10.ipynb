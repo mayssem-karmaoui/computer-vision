{
  "nbformat": 4,
  "nbformat_minor": 0,
  "metadata": {
    "colab": {
      "provenance": []
    },
    "kernelspec": {
      "name": "python3",
      "display_name": "Python 3"
    },
    "language_info": {
      "name": "python"
    }
  },
  "cells": [
    {
      "cell_type": "code",
      "execution_count": 1,
      "metadata": {
        "id": "I3qNIUWlwOja"
      },
      "outputs": [],
      "source": [
        "# Importation des bibliothèques nécessaires\n",
        "import tensorflow as tf\n",
        "from tensorflow.keras import layers, models\n",
        "from tensorflow.keras.datasets import cifar10\n",
        "from tensorflow.keras.utils import to_categorical\n",
        "\n"
      ]
    },
    {
      "cell_type": "markdown",
      "source": [
        "la description de la base CIFAR-10 : https://www.cs.toronto.edu/~kriz/cifar.html"
      ],
      "metadata": {
        "id": "l3vWL75bdf8J"
      }
    },
    {
      "cell_type": "code",
      "source": [
        "\n",
        "# Chargement et prétraitement des données CIFAR-10\n",
        "(x_train, y_train), (x_test, y_test) = cifar10.load_data()\n",
        "x_train, x_test = x_train / 255.0, x_test / 255.0  # Normalisation des pixels entre 0 et 1\n",
        "y_train, y_test = to_categorical(y_train), to_categorical(y_test)  # Conversion des étiquettes en one-hot encoding\n",
        "\n"
      ],
      "metadata": {
        "id": "LSNJmNK2yRvA"
      },
      "execution_count": null,
      "outputs": []
    },
    {
      "cell_type": "code",
      "source": [
        "# Définition du modèle CNN\n",
        "model = models.Sequential()\n",
        "model.add(layers.Conv2D(32, (3, 3), activation='relu', input_shape=(32, 32, 3)))\n",
        "model.add(layers.MaxPooling2D((2, 2)))\n",
        "model.add(layers.Conv2D(64, (3, 3), activation='relu'))\n",
        "model.add(layers.MaxPooling2D((2, 2)))\n",
        "model.add(layers.Conv2D(64, (3, 3), activation='relu'))\n",
        "model.add(layers.Flatten())\n",
        "model.add(layers.Dense(64, activation='relu'))\n",
        "model.add(layers.Dense(10, activation='softmax'))\n",
        "\n"
      ],
      "metadata": {
        "id": "NHz3DQhLyVCr"
      },
      "execution_count": 3,
      "outputs": []
    },
    {
      "cell_type": "code",
      "source": [
        "# Compilation du modèle\n",
        "model.compile(optimizer='adam',\n",
        "              loss='categorical_crossentropy',\n",
        "              metrics=['accuracy'])\n",
        "\n"
      ],
      "metadata": {
        "id": "Wep_ZZOwyXj6"
      },
      "execution_count": 4,
      "outputs": []
    },
    {
      "cell_type": "code",
      "source": [
        "# Entraînement du modèle\n",
        "history=model.fit(x_train, y_train, epochs=10, validation_split=0.2)\n",
        "\n"
      ],
      "metadata": {
        "id": "HFkE26yjzlNK"
      },
      "execution_count": null,
      "outputs": []
    },
    {
      "cell_type": "code",
      "source": [
        "# Évaluation du modèle sur l'ensemble de test\n",
        "test_loss, test_acc = model.evaluate(x_test, y_test)\n",
        "print(f'Accuracy on test set: {test_acc}')\n",
        "\n"
      ],
      "metadata": {
        "id": "GPGucGWWznLa"
      },
      "execution_count": null,
      "outputs": []
    },
    {
      "cell_type": "code",
      "source": [
        "# Sauvegarde du modèle\n",
        "model.save('image_classifier_model.h5')"
      ],
      "metadata": {
        "id": "Xl0aOvUPzqb7"
      },
      "execution_count": null,
      "outputs": []
    },
    {
      "cell_type": "code",
      "source": [
        "# Prédiction sur quelques exemples individuels (optionnel)\n",
        "import numpy as np\n",
        "\n",
        "# Sélectionnez quelques échantillons aléatoires de l'ensemble de test\n",
        "random_samples = np.random.choice(x_test.shape[0], 5, replace=False)\n",
        "\n",
        "# Effectuez les prédictions sur ces échantillons\n",
        "for sample_index in random_samples:\n",
        "    input_image = x_test[sample_index].reshape(1, 32, 32, 3)\n",
        "    true_label = y_test[sample_index]\n",
        "\n",
        "    # Obtenez les prédictions du modèle\n",
        "    predictions = model.predict(input_image)\n",
        "\n",
        "    # Affichez les résultats\n",
        "    predicted_label = np.argmax(predictions)\n",
        "    print(f'True Label: {np.argmax(true_label)}, Predicted Label: {predicted_label}, Predictions: {predictions}')"
      ],
      "metadata": {
        "id": "kjW3aOmj0Gie"
      },
      "execution_count": null,
      "outputs": []
    }
  ]
}